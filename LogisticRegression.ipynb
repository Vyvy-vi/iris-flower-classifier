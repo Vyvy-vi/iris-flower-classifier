{
 "cells": [
  {
   "cell_type": "code",
   "execution_count": 1,
   "id": "1756dac5",
   "metadata": {},
   "outputs": [],
   "source": [
    "# This takes the classification model made in classification-logistic-regression-from-scratch\n",
    "# and wraps a class on top of it to make it convenient for practical use"
   ]
  },
  {
   "cell_type": "code",
   "execution_count": 8,
   "id": "5f4fe122",
   "metadata": {},
   "outputs": [],
   "source": [
    "import numpy as np"
   ]
  },
  {
   "cell_type": "code",
   "execution_count": 11,
   "id": "4a3f72e7",
   "metadata": {},
   "outputs": [],
   "source": [
    "class LogisticRegression():\n",
    "    def __init__(self, learning_rate, num_of_iterations):\n",
    "        self.learning_rate = learning_rate\n",
    "        self.number_of_iterations = number_of_iterations\n",
    "        \n",
    "    def fit(self, X, Y):\n",
    "        # self.m -> no. of data points\n",
    "        # self.n -> no. of input features\n",
    "        self.m, self.n = X.shape\n",
    "        \n",
    "        self.w = np.zeros(n)\n",
    "        self.b = 0\n",
    "        \n",
    "        self.X = X\n",
    "        self.Y = Y\n",
    "        \n",
    "        seld.gradient_descent()\n",
    "        \n",
    "    def gradient_descent(self):\n",
    "        for i in range(self.number.of_iterations):\n",
    "            self.update_weights()\n",
    "    \n",
    "    def logistic_sigmoid_function(z):\n",
    "        g = 1 / (1 + np.exp(-z))\n",
    "        return g\n",
    "        \n",
    "    def update_weights(self):\n",
    "        Y_hat = logistic_sigmoid_function(self.X.dot(self.w) + self.b)\n",
    "        dj_dw = np.dot(self.X.T, Y_hat - self.Y) / self.m\n",
    "        dj_db = np.sum(Y_hat - self.Y) / self.m\n",
    "        \n",
    "        self.w -= self.learning_rate * dj_dw\n",
    "        self.b -= self.learning_rate * dj_db\n",
    "    \n",
    "    def predict(seld):\n",
    "        Y_pred = logistic_sigmoid_function(self.X.dot(self.w) + self.b)\n",
    "        Y_pred = np.where(Y_pred > 0.5, 1, 0)\n",
    "        \n",
    "        return Y_pred"
   ]
  },
  {
   "cell_type": "code",
   "execution_count": 12,
   "id": "4e092c7b",
   "metadata": {},
   "outputs": [
    {
     "ename": "TypeError",
     "evalue": "LogisticRegression.__init__() got an unexpected keyword argument 'no_of_iterations'",
     "output_type": "error",
     "traceback": [
      "\u001b[0;31m---------------------------------------------------------------------------\u001b[0m",
      "\u001b[0;31mTypeError\u001b[0m                                 Traceback (most recent call last)",
      "Cell \u001b[0;32mIn [12], line 1\u001b[0m\n\u001b[0;32m----> 1\u001b[0m model \u001b[38;5;241m=\u001b[39m \u001b[43mLogisticRegression\u001b[49m\u001b[43m(\u001b[49m\u001b[43mlearning_rate\u001b[49m\u001b[43m \u001b[49m\u001b[38;5;241;43m=\u001b[39;49m\u001b[43m \u001b[49m\u001b[38;5;241;43m0.01\u001b[39;49m\u001b[43m,\u001b[49m\u001b[43m \u001b[49m\u001b[43mno_of_iterations\u001b[49m\u001b[43m \u001b[49m\u001b[38;5;241;43m=\u001b[39;49m\u001b[43m \u001b[49m\u001b[38;5;241;43m10000\u001b[39;49m\u001b[43m)\u001b[49m\n\u001b[1;32m      2\u001b[0m model\u001b[38;5;241m.\u001b[39mfit()\n",
      "\u001b[0;31mTypeError\u001b[0m: LogisticRegression.__init__() got an unexpected keyword argument 'no_of_iterations'"
     ]
    }
   ],
   "source": [
    "model = LogisticRegression(learning_rate = 0.01, no_of_iterations = 10000)"
   ]
  },
  {
   "cell_type": "code",
   "execution_count": null,
   "id": "43f42af1",
   "metadata": {},
   "outputs": [],
   "source": []
  }
 ],
 "metadata": {
  "kernelspec": {
   "display_name": "Python 3 (ipykernel)",
   "language": "python",
   "name": "python3"
  },
  "language_info": {
   "codemirror_mode": {
    "name": "ipython",
    "version": 3
   },
   "file_extension": ".py",
   "mimetype": "text/x-python",
   "name": "python",
   "nbconvert_exporter": "python",
   "pygments_lexer": "ipython3",
   "version": "3.11.0"
  }
 },
 "nbformat": 4,
 "nbformat_minor": 5
}
