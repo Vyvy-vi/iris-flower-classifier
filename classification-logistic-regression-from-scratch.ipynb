{
 "cells": [
  {
   "cell_type": "code",
   "execution_count": 96,
   "id": "91a8dd42",
   "metadata": {},
   "outputs": [],
   "source": [
    "import numpy as np\n",
    "import pandas as pd\n",
    "import matplotlib.pyplot as plt\n",
    "import seaborn as sns\n",
    "import copy\n",
    "from math import log, ceil\n",
    "from sklearn.model_selection import train_test_split"
   ]
  },
  {
   "cell_type": "code",
   "execution_count": 97,
   "id": "0ec40d7a",
   "metadata": {},
   "outputs": [
    {
     "data": {
      "text/html": [
       "<div>\n",
       "<style scoped>\n",
       "    .dataframe tbody tr th:only-of-type {\n",
       "        vertical-align: middle;\n",
       "    }\n",
       "\n",
       "    .dataframe tbody tr th {\n",
       "        vertical-align: top;\n",
       "    }\n",
       "\n",
       "    .dataframe thead th {\n",
       "        text-align: right;\n",
       "    }\n",
       "</style>\n",
       "<table border=\"1\" class=\"dataframe\">\n",
       "  <thead>\n",
       "    <tr style=\"text-align: right;\">\n",
       "      <th></th>\n",
       "      <th>sepal_length</th>\n",
       "      <th>sepal_width</th>\n",
       "      <th>petal_length</th>\n",
       "      <th>petal_width</th>\n",
       "      <th>species</th>\n",
       "    </tr>\n",
       "  </thead>\n",
       "  <tbody>\n",
       "    <tr>\n",
       "      <th>0</th>\n",
       "      <td>5.1</td>\n",
       "      <td>3.5</td>\n",
       "      <td>1.4</td>\n",
       "      <td>0.2</td>\n",
       "      <td>Iris-setosa</td>\n",
       "    </tr>\n",
       "    <tr>\n",
       "      <th>1</th>\n",
       "      <td>4.9</td>\n",
       "      <td>3.0</td>\n",
       "      <td>1.4</td>\n",
       "      <td>0.2</td>\n",
       "      <td>Iris-setosa</td>\n",
       "    </tr>\n",
       "    <tr>\n",
       "      <th>2</th>\n",
       "      <td>4.7</td>\n",
       "      <td>3.2</td>\n",
       "      <td>1.3</td>\n",
       "      <td>0.2</td>\n",
       "      <td>Iris-setosa</td>\n",
       "    </tr>\n",
       "    <tr>\n",
       "      <th>3</th>\n",
       "      <td>4.6</td>\n",
       "      <td>3.1</td>\n",
       "      <td>1.5</td>\n",
       "      <td>0.2</td>\n",
       "      <td>Iris-setosa</td>\n",
       "    </tr>\n",
       "    <tr>\n",
       "      <th>4</th>\n",
       "      <td>5.0</td>\n",
       "      <td>3.6</td>\n",
       "      <td>1.4</td>\n",
       "      <td>0.2</td>\n",
       "      <td>Iris-setosa</td>\n",
       "    </tr>\n",
       "    <tr>\n",
       "      <th>...</th>\n",
       "      <td>...</td>\n",
       "      <td>...</td>\n",
       "      <td>...</td>\n",
       "      <td>...</td>\n",
       "      <td>...</td>\n",
       "    </tr>\n",
       "    <tr>\n",
       "      <th>145</th>\n",
       "      <td>6.7</td>\n",
       "      <td>3.0</td>\n",
       "      <td>5.2</td>\n",
       "      <td>2.3</td>\n",
       "      <td>Iris-virginica</td>\n",
       "    </tr>\n",
       "    <tr>\n",
       "      <th>146</th>\n",
       "      <td>6.3</td>\n",
       "      <td>2.5</td>\n",
       "      <td>5.0</td>\n",
       "      <td>1.9</td>\n",
       "      <td>Iris-virginica</td>\n",
       "    </tr>\n",
       "    <tr>\n",
       "      <th>147</th>\n",
       "      <td>6.5</td>\n",
       "      <td>3.0</td>\n",
       "      <td>5.2</td>\n",
       "      <td>2.0</td>\n",
       "      <td>Iris-virginica</td>\n",
       "    </tr>\n",
       "    <tr>\n",
       "      <th>148</th>\n",
       "      <td>6.2</td>\n",
       "      <td>3.4</td>\n",
       "      <td>5.4</td>\n",
       "      <td>2.3</td>\n",
       "      <td>Iris-virginica</td>\n",
       "    </tr>\n",
       "    <tr>\n",
       "      <th>149</th>\n",
       "      <td>5.9</td>\n",
       "      <td>3.0</td>\n",
       "      <td>5.1</td>\n",
       "      <td>1.8</td>\n",
       "      <td>Iris-virginica</td>\n",
       "    </tr>\n",
       "  </tbody>\n",
       "</table>\n",
       "<p>150 rows × 5 columns</p>\n",
       "</div>"
      ],
      "text/plain": [
       "     sepal_length  sepal_width  petal_length  petal_width         species\n",
       "0             5.1          3.5           1.4          0.2     Iris-setosa\n",
       "1             4.9          3.0           1.4          0.2     Iris-setosa\n",
       "2             4.7          3.2           1.3          0.2     Iris-setosa\n",
       "3             4.6          3.1           1.5          0.2     Iris-setosa\n",
       "4             5.0          3.6           1.4          0.2     Iris-setosa\n",
       "..            ...          ...           ...          ...             ...\n",
       "145           6.7          3.0           5.2          2.3  Iris-virginica\n",
       "146           6.3          2.5           5.0          1.9  Iris-virginica\n",
       "147           6.5          3.0           5.2          2.0  Iris-virginica\n",
       "148           6.2          3.4           5.4          2.3  Iris-virginica\n",
       "149           5.9          3.0           5.1          1.8  Iris-virginica\n",
       "\n",
       "[150 rows x 5 columns]"
      ]
     },
     "execution_count": 97,
     "metadata": {},
     "output_type": "execute_result"
    }
   ],
   "source": [
    "data = pd.read_csv(\n",
    "    './data/iris.data',\n",
    "    names=[\n",
    "        \"sepal_length\",\n",
    "        \"sepal_width\",\n",
    "        \"petal_length\",\n",
    "        \"petal_width\",\n",
    "        \"species\"\n",
    "    ]\n",
    ")\n",
    "data"
   ]
  },
  {
   "cell_type": "code",
   "execution_count": 98,
   "id": "eb50f547",
   "metadata": {},
   "outputs": [
    {
     "name": "stdout",
     "output_type": "stream",
     "text": [
      "stats\n"
     ]
    },
    {
     "data": {
      "text/html": [
       "<div>\n",
       "<style scoped>\n",
       "    .dataframe tbody tr th:only-of-type {\n",
       "        vertical-align: middle;\n",
       "    }\n",
       "\n",
       "    .dataframe tbody tr th {\n",
       "        vertical-align: top;\n",
       "    }\n",
       "\n",
       "    .dataframe thead th {\n",
       "        text-align: right;\n",
       "    }\n",
       "</style>\n",
       "<table border=\"1\" class=\"dataframe\">\n",
       "  <thead>\n",
       "    <tr style=\"text-align: right;\">\n",
       "      <th></th>\n",
       "      <th>count</th>\n",
       "      <th>mean</th>\n",
       "      <th>std</th>\n",
       "      <th>min</th>\n",
       "      <th>25%</th>\n",
       "      <th>50%</th>\n",
       "      <th>75%</th>\n",
       "      <th>max</th>\n",
       "    </tr>\n",
       "  </thead>\n",
       "  <tbody>\n",
       "    <tr>\n",
       "      <th>sepal_length</th>\n",
       "      <td>150.0</td>\n",
       "      <td>5.843333</td>\n",
       "      <td>0.828066</td>\n",
       "      <td>4.3</td>\n",
       "      <td>5.1</td>\n",
       "      <td>5.80</td>\n",
       "      <td>6.4</td>\n",
       "      <td>7.9</td>\n",
       "    </tr>\n",
       "    <tr>\n",
       "      <th>sepal_width</th>\n",
       "      <td>150.0</td>\n",
       "      <td>3.054000</td>\n",
       "      <td>0.433594</td>\n",
       "      <td>2.0</td>\n",
       "      <td>2.8</td>\n",
       "      <td>3.00</td>\n",
       "      <td>3.3</td>\n",
       "      <td>4.4</td>\n",
       "    </tr>\n",
       "    <tr>\n",
       "      <th>petal_length</th>\n",
       "      <td>150.0</td>\n",
       "      <td>3.758667</td>\n",
       "      <td>1.764420</td>\n",
       "      <td>1.0</td>\n",
       "      <td>1.6</td>\n",
       "      <td>4.35</td>\n",
       "      <td>5.1</td>\n",
       "      <td>6.9</td>\n",
       "    </tr>\n",
       "    <tr>\n",
       "      <th>petal_width</th>\n",
       "      <td>150.0</td>\n",
       "      <td>1.198667</td>\n",
       "      <td>0.763161</td>\n",
       "      <td>0.1</td>\n",
       "      <td>0.3</td>\n",
       "      <td>1.30</td>\n",
       "      <td>1.8</td>\n",
       "      <td>2.5</td>\n",
       "    </tr>\n",
       "  </tbody>\n",
       "</table>\n",
       "</div>"
      ],
      "text/plain": [
       "              count      mean       std  min  25%   50%  75%  max\n",
       "sepal_length  150.0  5.843333  0.828066  4.3  5.1  5.80  6.4  7.9\n",
       "sepal_width   150.0  3.054000  0.433594  2.0  2.8  3.00  3.3  4.4\n",
       "petal_length  150.0  3.758667  1.764420  1.0  1.6  4.35  5.1  6.9\n",
       "petal_width   150.0  1.198667  0.763161  0.1  0.3  1.30  1.8  2.5"
      ]
     },
     "execution_count": 98,
     "metadata": {},
     "output_type": "execute_result"
    }
   ],
   "source": [
    "print(\"stats\")\n",
    "data.describe().transpose()"
   ]
  },
  {
   "cell_type": "code",
   "execution_count": 99,
   "id": "133254d8",
   "metadata": {},
   "outputs": [
    {
     "name": "stdout",
     "output_type": "stream",
     "text": [
      "Total records:  150\n",
      "Records of each species: \n",
      "Iris-setosa        50\n",
      "Iris-versicolor    50\n",
      "Iris-virginica     50\n",
      "Name: species, dtype: int64\n"
     ]
    }
   ],
   "source": [
    "print(\"Total records: \", data.shape[0])\n",
    "print(\"Records of each species: \", data.species.value_counts(), sep='\\n')"
   ]
  },
  {
   "cell_type": "code",
   "execution_count": 100,
   "id": "ee24ec27",
   "metadata": {},
   "outputs": [],
   "source": [
    "# One-hot encoding for species\n",
    "data['species'] = data['species'].astype('category').cat.codes"
   ]
  },
  {
   "cell_type": "code",
   "execution_count": 101,
   "id": "553a74e5",
   "metadata": {},
   "outputs": [],
   "source": [
    "#Feature & Target Selection\n",
    "features = data.select_dtypes('float').columns\n",
    "target = ['species']\n",
    "\n",
    "# Feature& Target  Dataset\n",
    "X = data[features]\n",
    "y = data[target]\n",
    "\n",
    "# Split into 90% train and 10% test\n",
    "test_size = 0.1\n",
    "\n",
    "# splitting into training and test data set\n",
    "X_train, X_test, y_train, y_test = train_test_split(\n",
    "    X,\n",
    "    y,\n",
    "    test_size=test_size,\n",
    "    random_state=0\n",
    ")\n",
    "X_test = X_test.reset_index(drop=True)\n",
    "y_test = y_test.reset_index(drop=True)"
   ]
  },
  {
   "cell_type": "code",
   "execution_count": 102,
   "id": "63bb5c14",
   "metadata": {},
   "outputs": [
    {
     "name": "stdout",
     "output_type": "stream",
     "text": [
      "Training features shape: (135, 4)\n",
      "Training targets shape: (135, 1)\n",
      "Testing features shape: (15, 4)\n",
      "Testing targets shape: (15, 1)\n"
     ]
    }
   ],
   "source": [
    "print(\n",
    "    f\"Training features shape: {X_train.shape}\",\n",
    "    f\"Training targets shape: {y_train.shape}\",\n",
    "    f\"Testing features shape: {X_test.shape}\",\n",
    "    f\"Testing targets shape: {y_test.shape}\",\n",
    "    sep='\\n'\n",
    ")"
   ]
  },
  {
   "cell_type": "code",
   "execution_count": 103,
   "id": "f5ea6670",
   "metadata": {},
   "outputs": [
    {
     "name": "stdout",
     "output_type": "stream",
     "text": [
      "First five elements in X_train are: \n",
      "     sepal_length  sepal_width  petal_length  petal_width\n",
      "37           4.9          3.1           1.5          0.1\n",
      "78           6.0          2.9           4.5          1.5\n",
      "90           5.5          2.6           4.4          1.2\n",
      "45           4.8          3.0           1.4          0.3\n",
      "16           5.4          3.9           1.3          0.4\n",
      "First five elements in Y_train are: \n",
      "     species\n",
      "37        0\n",
      "78        1\n",
      "90        1\n",
      "45        0\n",
      "16        0\n"
     ]
    }
   ],
   "source": [
    "print(\"First five elements in X_train are: \\n\", X_train.iloc[:5])\n",
    "print(\"First five elements in Y_train are: \\n\", y_train.iloc[:5])"
   ]
  },
  {
   "cell_type": "code",
   "execution_count": 104,
   "id": "83651ad6",
   "metadata": {},
   "outputs": [
    {
     "data": {
      "text/plain": [
       "<seaborn.axisgrid.PairGrid at 0x2887290d0>"
      ]
     },
     "execution_count": 104,
     "metadata": {},
     "output_type": "execute_result"
    },
    {
     "data": {
      "image/png": "[encoded data removed]",
      "text/plain": [
       "<Figure size 1062.74x1000 with 16 Axes>"
      ]
     },
     "metadata": {},
     "output_type": "display_data"
    }
   ],
   "source": [
    "# Data Exploration & Visualisation\n",
    "\n",
    "# Plotting a pair-grid to compare features and check if this data is suited for\n",
    "# classification, or some more feature engineering is needed\n",
    "sns.PairGrid(X_train.assign(species=y_train), hue='species').map(plt.scatter).add_legend()\n",
    "\n",
    "# sns.FacetGrid(data, hue='species', height = 5).map(plt.scatter, 'sepal_length','sepal_width').add_legend()\n",
    "# sns.FacetGrid(data, hue='species', height = 5).map(plt.scatter, 'sepal_length', 'petal_width').add_legend()\n",
    "# sns.FacetGrid(data, hue='species', height = 5).map(plt.scatter, 'petal_length','sepal_width').add_legend()\n",
    "# sns.FacetGrid(data, hue='species', height = 5).map(plt.scatter, 'petal_length','petal_width').add_legend()"
   ]
  },
  {
   "cell_type": "code",
   "execution_count": 105,
   "id": "084e38d3",
   "metadata": {},
   "outputs": [],
   "source": [
    "# Inference from above data -\n",
    "# This data has 3 unique categories, thus we would have to make 3 Logistic Regression models\n",
    "# where we take 1 class and group the other 2\n",
    "# ('Iris-setosa' & 'Iris-versicolor', 'Iris-virginica')\n",
    "# ('Iris-setosa' & 'Iris-virginica', 'Iris-versicolor')\n",
    "# ('Iris-versicolor' & 'Iris-virginica', 'Iris-setosa')\n",
    "\n",
    "# This way, we can classify three classes using only binary classification\n",
    "# Note - Multinomial classification is also possible, but it performs better\n",
    "# when done via Nueral Networks with the SoftMax Activation Function\n",
    "\n",
    "# Moreover from only plotting 2 features on a 2D graph, clear clusters are visible in the ScatterPlot,\n",
    "# due to which this problem could also be solved with clustering methods and algorithms like RandomForest or KNN\n",
    "\n",
    "# There's a clear distinction from the \"petal_width\" parameter (and also the petal_length param),\n",
    "# the petal widths of iris-setosa, iris-versicolor and iris-virginica are in asceding order\n",
    "\n",
    "# => intuition - the weight for 'petal_width' param would be higher than that of the other params"
   ]
  },
  {
   "cell_type": "code",
   "execution_count": 106,
   "id": "b4a6bb4d",
   "metadata": {},
   "outputs": [],
   "source": [
    "# Logistic Regression Model\n",
    "# f_wb (x) = g(w.x + b), where g is the sigmoid function (1 / (1 + e^-z))\n",
    "\n",
    "def sigmoid(z):\n",
    "    g = 1 / (1 + np.exp(-z))\n",
    "    return g"
   ]
  },
  {
   "cell_type": "code",
   "execution_count": 107,
   "id": "2d930f58",
   "metadata": {},
   "outputs": [],
   "source": [
    "# Cost Function\n",
    "# The cost function for logistic regression is:\n",
    "# J(w, b) = (1 / m) * summation(loss(f_wb(x_i), y_i))\n",
    "# where m = no of inputs, f_wb is the model, x_i is the ith\n",
    "# set of input features, and y_i is the actual target value\n",
    "# f_wb(x_i) gives the predicted value of target for given\n",
    "# input features\n",
    "# f_wb(x_i) = g(w.x_i + b), where g is the sigmoid function\n",
    "# The loss function for binary classification is:\n",
    "# -y_i * log(f_wb(x_i)) - (1 - y_i) * log(1 - f_wb(x_i))\n",
    "def compute_cost(X, y, w, b, *argv):\n",
    "    m, n = X.shape\n",
    "    total_cost = 0\n",
    "    \n",
    "    for i in range(m):\n",
    "        f_wb_i = sigmoid(np.dot(w, X.iloc[i]) + b)\n",
    "        total_cost += (- y.iloc[i] * log(f_wb_i) - (1 - y.iloc[i]) * log(1 - f_wb_i))[0]\n",
    "        \n",
    "    return total_cost / m"
   ]
  },
  {
   "cell_type": "code",
   "execution_count": 108,
   "id": "d504e0fe",
   "metadata": {},
   "outputs": [],
   "source": [
    "def altered_cost(X, y, w, b, *argv):\n",
    "    m = y.shape[0]\n",
    "\n",
    "    y = y.values.flatten()\n",
    "    f_wb = sigmoid(np.dot(X, w) + b)\n",
    "    total_cost = -np.sum(y * np.log(f_wb) + (1 - y) * np.log(1 - f_wb))\n",
    "        \n",
    "    return total_cost / m"
   ]
  },
  {
   "cell_type": "code",
   "execution_count": 109,
   "id": "946657c2",
   "metadata": {},
   "outputs": [],
   "source": [
    "def isolate_single_category(y, category):\n",
    "    y_filtered = y.copy()\n",
    "    \n",
    "    for i in range(y_filtered.shape[0]):\n",
    "        if (y_filtered.iloc[i][0] != category):\n",
    "            y_filtered.iloc[i] = 0\n",
    "        else:\n",
    "            y_filtered.iloc[i] = 1\n",
    "\n",
    "    return y_filtered"
   ]
  },
  {
   "cell_type": "code",
   "execution_count": 110,
   "id": "f529d243",
   "metadata": {},
   "outputs": [
    {
     "name": "stdout",
     "output_type": "stream",
     "text": [
      "(Iris-setosa) Cost at initial w and b (zeros): 0.693\n",
      "(Iris-versicolor) Cost at initial w and b (zeros): 0.693\n",
      "(Iris-virginica) Cost at initial w and b (zeros): 0.693\n"
     ]
    }
   ],
   "source": [
    "m, n = X_train.shape\n",
    "\n",
    "# Compute and display cost with w and b initialized to zeros\n",
    "initial_w = np.zeros(n)\n",
    "initial_b = 0.\n",
    "\n",
    "# Pre-Process Y_train into 3 categories (using one-hot-encoding)\n",
    "y_train_setosa = isolate_single_category(y_train, 0)\n",
    "y_train_versicolor = isolate_single_category(y_train, 1)\n",
    "y_train_virginica = isolate_single_category(y_train, 2)\n",
    "\n",
    "\n",
    "cost_setosa = altered_cost(X_train, y_train_setosa, initial_w, initial_b)\n",
    "print('(Iris-setosa) Cost at initial w and b (zeros): {:.3f}'.format(cost_setosa))\n",
    "\n",
    "cost_versicolor = altered_cost(X_train, y_train_versicolor, initial_w, initial_b)\n",
    "print('(Iris-versicolor) Cost at initial w and b (zeros): {:.3f}'.format(cost_versicolor))\n",
    "\n",
    "cost_virginica = altered_cost(X_train, y_train_virginica, initial_w, initial_b)\n",
    "print('(Iris-virginica) Cost at initial w and b (zeros): {:.3f}'.format(cost_virginica))"
   ]
  },
  {
   "cell_type": "code",
   "execution_count": 111,
   "id": "a73f0cff",
   "metadata": {},
   "outputs": [],
   "source": [
    "def compute_gradient(X, y, w, b, *argv): \n",
    "    m, n = X.shape\n",
    "    dj_dw = np.zeros(w.shape)\n",
    "    dj_db = 0\n",
    "\n",
    "    err = []\n",
    "    for i in range(m):\n",
    "        f_wb_i = sigmoid(np.dot(w, X.iloc[i]) + b)\n",
    "\n",
    "        err_i = f_wb_i - y.iloc[i]   \n",
    "        \n",
    "        for j in range(n):\n",
    "            dj_dw[j] += err_i * X.iloc[i, j]\n",
    "            \n",
    "        dj_db += err_i\n",
    "   \n",
    "    dj_dw = dj_dw / m\n",
    "    dj_db = dj_db / m\n",
    "\n",
    "    return dj_db, dj_dw"
   ]
  },
  {
   "cell_type": "code",
   "execution_count": 112,
   "id": "c5512b37",
   "metadata": {},
   "outputs": [],
   "source": [
    "def altered_gradient(X, y, w, b, *argv): \n",
    "    m, n = X.shape\n",
    "    \n",
    "    f_wb = sigmoid(np.dot(X, w) + b)\n",
    "\n",
    "    err = f_wb - y.values.flatten()\n",
    " \n",
    "    dj_dw = np.dot(X.T, err) / m\n",
    "    dj_db = np.sum(err) / m\n",
    "\n",
    "    return dj_db, dj_dw"
   ]
  },
  {
   "cell_type": "code",
   "execution_count": 113,
   "id": "ce707fcb",
   "metadata": {},
   "outputs": [
    {
     "name": "stdout",
     "output_type": "stream",
     "text": [
      "For Iris-setosa: \n",
      "dj_db at initial w and b (zeros):0.15185185185185185\n",
      "dj_dw at initial w and b (zeros):[1.1674074074074072, 0.34518518518518515, 1.3429629629629631, 0.5081481481481481]\n",
      "\n",
      "For Iris-versicolor: \n",
      "dj_db at initial w and b (zeros):0.18888888888888888\n",
      "dj_dw at initial w and b (zeros):[1.0837037037037038, 0.6703703703703704, 0.5429629629629631, 0.18222222222222217]\n",
      "\n",
      "For Iris-virginica: \n",
      "dj_db at initial w and b (zeros):0.15925925925925927\n",
      "dj_dw at initial w and b (zeros):[0.6555555555555558, 0.5133333333333332, -0.031851851851851874, -0.09703703703703703]\n",
      "\n"
     ]
    }
   ],
   "source": [
    "initial_w = np.zeros(n)\n",
    "initial_b = 0.\n",
    "\n",
    "print(\"For Iris-setosa: \")\n",
    "dj_db, dj_dw = altered_gradient(X_train, y_train_setosa, initial_w, initial_b)\n",
    "print(f'dj_db at initial w and b (zeros):{dj_db}' )\n",
    "print(f'dj_dw at initial w and b (zeros):{dj_dw.tolist()}\\n' )\n",
    "\n",
    "print(\"For Iris-versicolor: \")\n",
    "dj_db, dj_dw = altered_gradient(X_train, y_train_versicolor, initial_w, initial_b)\n",
    "print(f'dj_db at initial w and b (zeros):{dj_db}' )\n",
    "print(f'dj_dw at initial w and b (zeros):{dj_dw.tolist()}\\n' )\n",
    "\n",
    "print(\"For Iris-virginica: \")\n",
    "dj_db, dj_dw = altered_gradient(X_train, y_train_virginica, initial_w, initial_b)\n",
    "print(f'dj_db at initial w and b (zeros):{dj_db}' )\n",
    "print(f'dj_dw at initial w and b (zeros):{dj_dw.tolist()}\\n' )"
   ]
  },
  {
   "cell_type": "code",
   "execution_count": 114,
   "id": "a9ee7303",
   "metadata": {},
   "outputs": [],
   "source": [
    "# Learning parameters w, b so as to minimise the cost fuction J(w, b)\n",
    "# 'converging the value of the function'\n",
    "def gradient_descent(X, y, w_in, b_in, cost_function, gradient_function, alpha, num_iters, lambda_):\n",
    "    m = X.shape[0]\n",
    "    \n",
    "    J_history = []\n",
    "    w_history = []\n",
    "    \n",
    "    for i in range(num_iters):\n",
    "        # calculate gradient\n",
    "        dj_db, dj_dw = gradient_function(X, y, w_in, b_in, lambda_)\n",
    "        \n",
    "        # Update params w, b using gradient\n",
    "        w_in = w_in - alpha * dj_dw\n",
    "        b_in = b_in - alpha * dj_db\n",
    "        \n",
    "        # save cost J\n",
    "        if (i < 100000):\n",
    "            cost = cost_function(X, y, w_in, b_in, lambda_)\n",
    "            J_history.append(cost)\n",
    "        \n",
    "        # print cost every 10 intervals\n",
    "        if (i % ceil(num_iters / 10) == 0 or i == num_iters - 1):\n",
    "            w_history.append(w_in)\n",
    "            print(f\"Iteration {i:4}: Cost {float(J_history[-1]):8.3f}  \")\n",
    "\n",
    "    return w_in, b_in, J_history, w_history"
   ]
  },
  {
   "cell_type": "code",
   "execution_count": 115,
   "id": "04008bd6",
   "metadata": {},
   "outputs": [],
   "source": [
    "np.random.seed(1)\n",
    "initial_w = 0.01 * (np.random.rand(4) - 0.5) # w has 4 features\n",
    "initial_b = 0\n",
    "iterations = 10000\n",
    "\n",
    "# learning rate\n",
    "alpha = 0.001"
   ]
  },
  {
   "cell_type": "code",
   "execution_count": 116,
   "id": "c19cc9e3",
   "metadata": {},
   "outputs": [
    {
     "name": "stdout",
     "output_type": "stream",
     "text": [
      "Running Gradient Descent for Iris-setosa classifier\n",
      "Iteration    0: Cost    0.682  \n",
      "Iteration 1000: Cost    0.329  \n",
      "Iteration 2000: Cost    0.219  \n",
      "Iteration 3000: Cost    0.163  \n",
      "Iteration 4000: Cost    0.130  \n",
      "Iteration 5000: Cost    0.108  \n",
      "Iteration 6000: Cost    0.093  \n",
      "Iteration 7000: Cost    0.081  \n",
      "Iteration 8000: Cost    0.072  \n",
      "Iteration 9000: Cost    0.065  \n",
      "Iteration 9999: Cost    0.059  \n",
      "w, b optimised from gradient_descent:  [ 0.28468052  0.91609968 -1.47909258 -0.68050164] 0.17677097011515674\n"
     ]
    }
   ],
   "source": [
    "print(\"Running Gradient Descent for Iris-setosa classifier\")\n",
    "w_s, b_s, J_history_s, _s = gradient_descent(X_train, y_train_setosa, initial_w, initial_b, altered_cost, altered_gradient, alpha, iterations, 0)\n",
    "\n",
    "print(\"w, b optimised from gradient_descent: \", w_s, b_s)"
   ]
  },
  {
   "cell_type": "code",
   "execution_count": 117,
   "id": "d2a8c5e0",
   "metadata": {},
   "outputs": [
    {
     "name": "stdout",
     "output_type": "stream",
     "text": [
      "Running Gradient Descent for Iris-versicolor classifier\n",
      "Iteration    0: Cost    0.683  \n",
      "Iteration 2000: Cost    0.562  \n",
      "Iteration 4000: Cost    0.552  \n",
      "Iteration 6000: Cost    0.543  \n",
      "Iteration 8000: Cost    0.536  \n",
      "Iteration 10000: Cost    0.531  \n",
      "Iteration 12000: Cost    0.526  \n",
      "Iteration 14000: Cost    0.522  \n",
      "Iteration 16000: Cost    0.518  \n",
      "Iteration 18000: Cost    0.515  \n",
      "Iteration 19999: Cost    0.513  \n",
      "w, b optimised from gradient_descent:  [ 0.32453031 -1.43870784  0.6194038  -1.31069612] 0.7908500352606372\n"
     ]
    }
   ],
   "source": [
    "alpha = 0.004\n",
    "iterations = 20000\n",
    "\n",
    "print(\"Running Gradient Descent for Iris-versicolor classifier\")\n",
    "w_vc, b_vc, J_history_vc, _vc = gradient_descent(X_train, y_train_versicolor, initial_w, initial_b, altered_cost, altered_gradient, alpha, iterations, 0)\n",
    "\n",
    "print(\"w, b optimised from gradient_descent: \", w_vc, b_vc)"
   ]
  },
  {
   "cell_type": "code",
   "execution_count": 118,
   "id": "4dab193f",
   "metadata": {},
   "outputs": [
    {
     "name": "stdout",
     "output_type": "stream",
     "text": [
      "Running Gradient Descent for Iris-virginica classifier\n",
      "Iteration    0: Cost    0.691  \n",
      "Iteration 2000: Cost    0.301  \n",
      "Iteration 4000: Cost    0.250  \n",
      "Iteration 6000: Cost    0.221  \n",
      "Iteration 8000: Cost    0.201  \n",
      "Iteration 10000: Cost    0.186  \n",
      "Iteration 12000: Cost    0.174  \n",
      "Iteration 14000: Cost    0.164  \n",
      "Iteration 16000: Cost    0.156  \n",
      "Iteration 18000: Cost    0.150  \n",
      "Iteration 19999: Cost    0.144  \n",
      "w, b optimised from gradient_descent:  [-1.818155   -1.7532863   2.74516407  2.53003581] -1.1203875430648895\n"
     ]
    }
   ],
   "source": [
    "print(\"Running Gradient Descent for Iris-virginica classifier\")\n",
    "w_vg, b_vg, J_history_vg, _vg = gradient_descent(X_train, y_train_virginica, initial_w, initial_b, altered_cost, altered_gradient, alpha, iterations, 0)\n",
    "\n",
    "print(\"w, b optimised from gradient_descent: \", w_vg, b_vg)"
   ]
  },
  {
   "cell_type": "code",
   "execution_count": 119,
   "id": "c9c1f264",
   "metadata": {},
   "outputs": [],
   "source": [
    "def predict(X, w_s, b_s, w_vc, b_vc, w_vg, b_vg): \n",
    "    # number of training examples\n",
    "    m, n = X.shape   \n",
    "    p = np.zeros(m, dtype=object)\n",
    "   \n",
    "    for i in range(m):   \n",
    "        z_wb_s = np.dot(w_s, X.iloc[i]) + b_s\n",
    "        z_wb_vc = np.dot(w_vc, X.iloc[i]) + b_vc\n",
    "        z_wb_vg = np.dot(w_vg, X.iloc[i]) + b_vg\n",
    "        \n",
    "        # Calculate the prediction for setosaa\n",
    "        f_wb_s = sigmoid(z_wb_s)\n",
    "        \n",
    "        # Calculate the prediction for versicolor\n",
    "        f_wb_vc = sigmoid(z_wb_vc)\n",
    "        \n",
    "        # Calculate the prediction for virginica\n",
    "        f_wb_vg = sigmoid(z_wb_vg)\n",
    "\n",
    "        f_wb = [f_wb_s, f_wb_vc, f_wb_vg]\n",
    "        p[i] = f_wb.index(max(f_wb))\n",
    "        \n",
    "    return p"
   ]
  },
  {
   "cell_type": "code",
   "execution_count": 120,
   "id": "74711516",
   "metadata": {},
   "outputs": [
    {
     "data": {
      "text/plain": [
       "array([2, 0, 1, 1], dtype=object)"
      ]
     },
     "execution_count": 120,
     "metadata": {},
     "output_type": "execute_result"
    }
   ],
   "source": [
    "# test against 2 cases\n",
    "X_ = pd.DataFrame([[5.9, 3.0, 5.1, 1.8], [5.0, 3.6, 1.4, 0.2], [6.7,3.1,4.4, 1.4], [6.0,2.9,4.5,1.5]])\n",
    "predict(X_, w_s, b_s, w_vc, b_vc, w_vg, b_vg)\n",
    "\n",
    "# outputs seem to be accurate."
   ]
  },
  {
   "cell_type": "code",
   "execution_count": 121,
   "id": "8085a571",
   "metadata": {},
   "outputs": [
    {
     "name": "stdout",
     "output_type": "stream",
     "text": [
      "Train Accuracy: 97.037037\n"
     ]
    }
   ],
   "source": [
    "p = predict(X_train, w_s, b_s, w_vc, b_vc, w_vg, b_vg)\n",
    "print('Train Accuracy: %f'%(np.mean(p == y_train.values.flatten()) * 100))"
   ]
  },
  {
   "cell_type": "code",
   "execution_count": 122,
   "id": "43d34422",
   "metadata": {},
   "outputs": [
    {
     "name": "stdout",
     "output_type": "stream",
     "text": [
      "Test Accuracy: 100.000000\n"
     ]
    }
   ],
   "source": [
    "p = predict(X_test, w_s, b_s, w_vc, b_vc, w_vg, b_vg)\n",
    "print('Test Accuracy: %f'%(np.mean(p == y_test.values.flatten()) * 100))"
   ]
  },
  {
   "cell_type": "code",
   "execution_count": 123,
   "id": "331d7d75",
   "metadata": {},
   "outputs": [
    {
     "data": {
      "text/plain": [
       "96.29629629629629"
      ]
     },
     "execution_count": 123,
     "metadata": {},
     "output_type": "execute_result"
    }
   ],
   "source": [
    "# Using sklearn on the dataset\n",
    "\n",
    "from sklearn.svm import SVC\n",
    "from sklearn.multiclass import OneVsRestClassifier\n",
    "\n",
    "model = SVC()\n",
    "\n",
    "ovr = OneVsRestClassifier(model)\n",
    "\n",
    "#fit model to training data\n",
    "ovr.fit(X_train, y_train)\n",
    "\n",
    "#Predications\n",
    "ovr_pred = ovr.predict(X_train)\n",
    "\n",
    "#Adding Predictions to Test Dataset\n",
    "ovr_df = X_train.copy()\n",
    "ovr_df.insert(4,\"Actual\",y_train, True)\n",
    "ovr_df.insert(5,\"Predicted\",ovr_pred, True)\n",
    "\n",
    "100 * np.sum(ovr_df['Actual'] == ovr_df['Predicted']) / ovr_df.shape[0]"
   ]
  },
  {
   "cell_type": "code",
   "execution_count": 124,
   "id": "a502e656",
   "metadata": {},
   "outputs": [],
   "source": [
    "ls = [np.append(w_s,b_s), np.append(w_vc, b_vc), np.append(w_vg, b_vg)]\n",
    "model = pd.DataFrame(np.vstack(ls), columns=[\n",
    "        \"sepal_length_weight\",\n",
    "        \"sepal_width_weight\",\n",
    "        \"petal_length_weight\",\n",
    "        \"petal_width_weight\",\n",
    "        \"bias\"\n",
    "], index=pd.Index([\"iris-setosa\", \"iris-versicolor\", \"iris-virginica\"], name=\"category\"))"
   ]
  },
  {
   "cell_type": "code",
   "execution_count": 125,
   "id": "fc1e1497",
   "metadata": {},
   "outputs": [],
   "source": [
    "model.to_pickle('./data/Iris-LR-scratch.pkl')"
   ]
  },
  {
   "cell_type": "code",
   "execution_count": 126,
   "id": "30b9f210",
   "metadata": {},
   "outputs": [],
   "source": [
    "p = pd.read_pickle('./data/Iris-LR-scratch.pkl')"
   ]
  },
  {
   "cell_type": "code",
   "execution_count": 127,
   "id": "8b5a7ead",
   "metadata": {},
   "outputs": [
    {
     "data": {
      "text/html": [
       "<div>\n",
       "<style scoped>\n",
       "    .dataframe tbody tr th:only-of-type {\n",
       "        vertical-align: middle;\n",
       "    }\n",
       "\n",
       "    .dataframe tbody tr th {\n",
       "        vertical-align: top;\n",
       "    }\n",
       "\n",
       "    .dataframe thead th {\n",
       "        text-align: right;\n",
       "    }\n",
       "</style>\n",
       "<table border=\"1\" class=\"dataframe\">\n",
       "  <thead>\n",
       "    <tr style=\"text-align: right;\">\n",
       "      <th></th>\n",
       "      <th>sepal_length_weight</th>\n",
       "      <th>sepal_width_weight</th>\n",
       "      <th>petal_length_weight</th>\n",
       "      <th>petal_width_weight</th>\n",
       "      <th>bias</th>\n",
       "    </tr>\n",
       "    <tr>\n",
       "      <th>category</th>\n",
       "      <th></th>\n",
       "      <th></th>\n",
       "      <th></th>\n",
       "      <th></th>\n",
       "      <th></th>\n",
       "    </tr>\n",
       "  </thead>\n",
       "  <tbody>\n",
       "    <tr>\n",
       "      <th>iris-setosa</th>\n",
       "      <td>0.284681</td>\n",
       "      <td>0.916100</td>\n",
       "      <td>-1.479093</td>\n",
       "      <td>-0.680502</td>\n",
       "      <td>0.176771</td>\n",
       "    </tr>\n",
       "    <tr>\n",
       "      <th>iris-versicolor</th>\n",
       "      <td>0.324530</td>\n",
       "      <td>-1.438708</td>\n",
       "      <td>0.619404</td>\n",
       "      <td>-1.310696</td>\n",
       "      <td>0.790850</td>\n",
       "    </tr>\n",
       "    <tr>\n",
       "      <th>iris-virginica</th>\n",
       "      <td>-1.818155</td>\n",
       "      <td>-1.753286</td>\n",
       "      <td>2.745164</td>\n",
       "      <td>2.530036</td>\n",
       "      <td>-1.120388</td>\n",
       "    </tr>\n",
       "  </tbody>\n",
       "</table>\n",
       "</div>"
      ],
      "text/plain": [
       "                 sepal_length_weight  sepal_width_weight  petal_length_weight  \\\n",
       "category                                                                        \n",
       "iris-setosa                 0.284681            0.916100            -1.479093   \n",
       "iris-versicolor             0.324530           -1.438708             0.619404   \n",
       "iris-virginica             -1.818155           -1.753286             2.745164   \n",
       "\n",
       "                 petal_width_weight      bias  \n",
       "category                                       \n",
       "iris-setosa               -0.680502  0.176771  \n",
       "iris-versicolor           -1.310696  0.790850  \n",
       "iris-virginica             2.530036 -1.120388  "
      ]
     },
     "execution_count": 127,
     "metadata": {},
     "output_type": "execute_result"
    }
   ],
   "source": [
    "p"
   ]
  },
  {
   "cell_type": "code",
   "execution_count": 128,
   "id": "050006d4",
   "metadata": {},
   "outputs": [
    {
     "data": {
      "text/plain": [
       "array([2., 2., 2., 2.])"
      ]
     },
     "execution_count": 128,
     "metadata": {},
     "output_type": "execute_result"
    }
   ],
   "source": [
    "np.array([2, 2, 2, 2], dtype=\"float64\")"
   ]
  },
  {
   "cell_type": "code",
   "execution_count": 129,
   "id": "e558776e",
   "metadata": {},
   "outputs": [
    {
     "data": {
      "text/plain": [
       "array([ 0.28468052,  0.91609968, -1.47909258, -0.68050164])"
      ]
     },
     "execution_count": 129,
     "metadata": {},
     "output_type": "execute_result"
    }
   ],
   "source": [
    "p.loc[\"iris-setosa\"][:4].to_numpy()"
   ]
  },
  {
   "cell_type": "code",
   "execution_count": 130,
   "id": "5d88fe8d",
   "metadata": {},
   "outputs": [
    {
     "data": {
      "text/plain": [
       "-1.7408570668356487"
      ]
     },
     "execution_count": 130,
     "metadata": {},
     "output_type": "execute_result"
    }
   ],
   "source": [
    "np.dot(p.loc[\"iris-setosa\"][:4].to_numpy(), np.array([2, 2, 2, 2], dtype=\"float64\")) + p.loc[\"iris-setosa\"][-1]"
   ]
  },
  {
   "cell_type": "code",
   "execution_count": null,
   "id": "d73c8e98",
   "metadata": {},
   "outputs": [],
   "source": []
  },
  {
   "cell_type": "code",
   "execution_count": null,
   "id": "684d8c9d",
   "metadata": {},
   "outputs": [],
   "source": []
  },
  {
   "cell_type": "code",
   "execution_count": null,
   "id": "4752b870",
   "metadata": {},
   "outputs": [],
   "source": []
  },
  {
   "cell_type": "code",
   "execution_count": null,
   "id": "444ab479",
   "metadata": {},
   "outputs": [],
   "source": []
  },
  {
   "cell_type": "code",
   "execution_count": null,
   "id": "61171f88",
   "metadata": {},
   "outputs": [],
   "source": []
  },
  {
   "cell_type": "code",
   "execution_count": null,
   "id": "3aff6887",
   "metadata": {},
   "outputs": [],
   "source": []
  },
  {
   "cell_type": "code",
   "execution_count": null,
   "id": "0cde61f9",
   "metadata": {},
   "outputs": [],
   "source": []
  }
 ],
 "metadata": {
  "kernelspec": {
   "display_name": "Python 3 (ipykernel)",
   "language": "python",
   "name": "python3"
  },
  "language_info": {
   "codemirror_mode": {
    "name": "ipython",
    "version": 3
   },
   "file_extension": ".py",
   "mimetype": "text/x-python",
   "name": "python",
   "nbconvert_exporter": "python",
   "pygments_lexer": "ipython3",
   "version": "3.11.0"
  }
 },
 "nbformat": 4,
 "nbformat_minor": 5
}
